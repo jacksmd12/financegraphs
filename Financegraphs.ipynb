{
 "cells": [
  {
   "cell_type": "code",
   "execution_count": 13,
   "metadata": {},
   "outputs": [],
   "source": [
    "# import modules\n",
    "\n",
    "import pandas as pd\n",
    "import numpy as np\n",
    "import matplotlib.pyplot as plt\n",
    "\n",
    "%matplotlib inline"
   ]
  },
  {
   "cell_type": "code",
   "execution_count": 4,
   "metadata": {},
   "outputs": [
    {
     "data": {
      "text/html": [
       "<div>\n",
       "<style scoped>\n",
       "    .dataframe tbody tr th:only-of-type {\n",
       "        vertical-align: middle;\n",
       "    }\n",
       "\n",
       "    .dataframe tbody tr th {\n",
       "        vertical-align: top;\n",
       "    }\n",
       "\n",
       "    .dataframe thead th {\n",
       "        text-align: right;\n",
       "    }\n",
       "</style>\n",
       "<table border=\"1\" class=\"dataframe\">\n",
       "  <thead>\n",
       "    <tr style=\"text-align: right;\">\n",
       "      <th></th>\n",
       "      <th>Date</th>\n",
       "      <th>Open</th>\n",
       "      <th>High</th>\n",
       "      <th>Low</th>\n",
       "      <th>Close</th>\n",
       "      <th>Adj Close</th>\n",
       "      <th>Volume</th>\n",
       "    </tr>\n",
       "  </thead>\n",
       "  <tbody>\n",
       "    <tr>\n",
       "      <th>0</th>\n",
       "      <td>2018-02-13</td>\n",
       "      <td>60.880001</td>\n",
       "      <td>62.959999</td>\n",
       "      <td>60.560001</td>\n",
       "      <td>62.380001</td>\n",
       "      <td>62.380001</td>\n",
       "      <td>3333800</td>\n",
       "    </tr>\n",
       "    <tr>\n",
       "      <th>1</th>\n",
       "      <td>2018-02-14</td>\n",
       "      <td>62.270000</td>\n",
       "      <td>63.480000</td>\n",
       "      <td>61.820000</td>\n",
       "      <td>63.380001</td>\n",
       "      <td>63.380001</td>\n",
       "      <td>3041100</td>\n",
       "    </tr>\n",
       "    <tr>\n",
       "      <th>2</th>\n",
       "      <td>2018-02-15</td>\n",
       "      <td>63.900002</td>\n",
       "      <td>64.769997</td>\n",
       "      <td>63.400002</td>\n",
       "      <td>64.730003</td>\n",
       "      <td>64.730003</td>\n",
       "      <td>3445000</td>\n",
       "    </tr>\n",
       "    <tr>\n",
       "      <th>3</th>\n",
       "      <td>2018-02-16</td>\n",
       "      <td>64.400002</td>\n",
       "      <td>64.449997</td>\n",
       "      <td>63.259998</td>\n",
       "      <td>63.900002</td>\n",
       "      <td>63.900002</td>\n",
       "      <td>3042800</td>\n",
       "    </tr>\n",
       "    <tr>\n",
       "      <th>4</th>\n",
       "      <td>2018-02-20</td>\n",
       "      <td>63.490002</td>\n",
       "      <td>64.220001</td>\n",
       "      <td>62.650002</td>\n",
       "      <td>63.970001</td>\n",
       "      <td>63.970001</td>\n",
       "      <td>3731500</td>\n",
       "    </tr>\n",
       "  </tbody>\n",
       "</table>\n",
       "</div>"
      ],
      "text/plain": [
       "         Date       Open       High        Low      Close  Adj Close   Volume\n",
       "0  2018-02-13  60.880001  62.959999  60.560001  62.380001  62.380001  3333800\n",
       "1  2018-02-14  62.270000  63.480000  61.820000  63.380001  63.380001  3041100\n",
       "2  2018-02-15  63.900002  64.769997  63.400002  64.730003  64.730003  3445000\n",
       "3  2018-02-16  64.400002  64.449997  63.259998  63.900002  63.900002  3042800\n",
       "4  2018-02-20  63.490002  64.220001  62.650002  63.970001  63.970001  3731500"
      ]
     },
     "execution_count": 4,
     "metadata": {},
     "output_type": "execute_result"
    }
   ],
   "source": [
    "# read in data, using KORS price (Yahoo Finance) as example\n",
    "\n",
    "d = pd.read_csv(\"KORS.csv\")\n",
    "d.head()"
   ]
  },
  {
   "cell_type": "code",
   "execution_count": 10,
   "metadata": {},
   "outputs": [
    {
     "data": {
      "text/html": [
       "<div>\n",
       "<style scoped>\n",
       "    .dataframe tbody tr th:only-of-type {\n",
       "        vertical-align: middle;\n",
       "    }\n",
       "\n",
       "    .dataframe tbody tr th {\n",
       "        vertical-align: top;\n",
       "    }\n",
       "\n",
       "    .dataframe thead th {\n",
       "        text-align: right;\n",
       "    }\n",
       "</style>\n",
       "<table border=\"1\" class=\"dataframe\">\n",
       "  <thead>\n",
       "    <tr style=\"text-align: right;\">\n",
       "      <th></th>\n",
       "      <th>Open</th>\n",
       "      <th>High</th>\n",
       "      <th>Low</th>\n",
       "      <th>Close</th>\n",
       "      <th>Adj Close</th>\n",
       "      <th>Volume</th>\n",
       "    </tr>\n",
       "    <tr>\n",
       "      <th>Date</th>\n",
       "      <th></th>\n",
       "      <th></th>\n",
       "      <th></th>\n",
       "      <th></th>\n",
       "      <th></th>\n",
       "      <th></th>\n",
       "    </tr>\n",
       "  </thead>\n",
       "  <tbody>\n",
       "    <tr>\n",
       "      <th>2018-02-13</th>\n",
       "      <td>60.880001</td>\n",
       "      <td>62.959999</td>\n",
       "      <td>60.560001</td>\n",
       "      <td>62.380001</td>\n",
       "      <td>62.380001</td>\n",
       "      <td>3333800</td>\n",
       "    </tr>\n",
       "    <tr>\n",
       "      <th>2018-02-14</th>\n",
       "      <td>62.270000</td>\n",
       "      <td>63.480000</td>\n",
       "      <td>61.820000</td>\n",
       "      <td>63.380001</td>\n",
       "      <td>63.380001</td>\n",
       "      <td>3041100</td>\n",
       "    </tr>\n",
       "    <tr>\n",
       "      <th>2018-02-15</th>\n",
       "      <td>63.900002</td>\n",
       "      <td>64.769997</td>\n",
       "      <td>63.400002</td>\n",
       "      <td>64.730003</td>\n",
       "      <td>64.730003</td>\n",
       "      <td>3445000</td>\n",
       "    </tr>\n",
       "    <tr>\n",
       "      <th>2018-02-16</th>\n",
       "      <td>64.400002</td>\n",
       "      <td>64.449997</td>\n",
       "      <td>63.259998</td>\n",
       "      <td>63.900002</td>\n",
       "      <td>63.900002</td>\n",
       "      <td>3042800</td>\n",
       "    </tr>\n",
       "    <tr>\n",
       "      <th>2018-02-20</th>\n",
       "      <td>63.490002</td>\n",
       "      <td>64.220001</td>\n",
       "      <td>62.650002</td>\n",
       "      <td>63.970001</td>\n",
       "      <td>63.970001</td>\n",
       "      <td>3731500</td>\n",
       "    </tr>\n",
       "  </tbody>\n",
       "</table>\n",
       "</div>"
      ],
      "text/plain": [
       "                 Open       High        Low      Close  Adj Close   Volume\n",
       "Date                                                                      \n",
       "2018-02-13  60.880001  62.959999  60.560001  62.380001  62.380001  3333800\n",
       "2018-02-14  62.270000  63.480000  61.820000  63.380001  63.380001  3041100\n",
       "2018-02-15  63.900002  64.769997  63.400002  64.730003  64.730003  3445000\n",
       "2018-02-16  64.400002  64.449997  63.259998  63.900002  63.900002  3042800\n",
       "2018-02-20  63.490002  64.220001  62.650002  63.970001  63.970001  3731500"
      ]
     },
     "execution_count": 10,
     "metadata": {},
     "output_type": "execute_result"
    }
   ],
   "source": [
    "# because it's time series, parse the Date column and use it as index\n",
    "dateparse = lambda dates: pd.datetime.strptime(dates, \"%Y-%m-%d\")\n",
    "\n",
    "d = pd.read_csv(\"KORS.csv\", parse_dates=[\"Date\"], date_parser=dateparse, index_col=\"Date\")\n",
    "d.head()"
   ]
  },
  {
   "cell_type": "code",
   "execution_count": 11,
   "metadata": {},
   "outputs": [
    {
     "data": {
      "text/html": [
       "<div>\n",
       "<style scoped>\n",
       "    .dataframe tbody tr th:only-of-type {\n",
       "        vertical-align: middle;\n",
       "    }\n",
       "\n",
       "    .dataframe tbody tr th {\n",
       "        vertical-align: top;\n",
       "    }\n",
       "\n",
       "    .dataframe thead th {\n",
       "        text-align: right;\n",
       "    }\n",
       "</style>\n",
       "<table border=\"1\" class=\"dataframe\">\n",
       "  <thead>\n",
       "    <tr style=\"text-align: right;\">\n",
       "      <th></th>\n",
       "      <th>Open</th>\n",
       "      <th>High</th>\n",
       "      <th>Low</th>\n",
       "      <th>Close</th>\n",
       "      <th>Adj Close</th>\n",
       "      <th>Volume</th>\n",
       "    </tr>\n",
       "  </thead>\n",
       "  <tbody>\n",
       "    <tr>\n",
       "      <th>count</th>\n",
       "      <td>125.000000</td>\n",
       "      <td>125.000000</td>\n",
       "      <td>125.000000</td>\n",
       "      <td>125.000000</td>\n",
       "      <td>125.000000</td>\n",
       "      <td>1.250000e+02</td>\n",
       "    </tr>\n",
       "    <tr>\n",
       "      <th>mean</th>\n",
       "      <td>64.976160</td>\n",
       "      <td>65.811920</td>\n",
       "      <td>64.157040</td>\n",
       "      <td>65.041760</td>\n",
       "      <td>65.041760</td>\n",
       "      <td>2.441453e+06</td>\n",
       "    </tr>\n",
       "    <tr>\n",
       "      <th>std</th>\n",
       "      <td>2.653056</td>\n",
       "      <td>2.679817</td>\n",
       "      <td>2.680201</td>\n",
       "      <td>2.683449</td>\n",
       "      <td>2.683449</td>\n",
       "      <td>1.907651e+06</td>\n",
       "    </tr>\n",
       "    <tr>\n",
       "      <th>min</th>\n",
       "      <td>57.599998</td>\n",
       "      <td>60.250000</td>\n",
       "      <td>57.099998</td>\n",
       "      <td>57.389999</td>\n",
       "      <td>57.389999</td>\n",
       "      <td>9.492000e+05</td>\n",
       "    </tr>\n",
       "    <tr>\n",
       "      <th>25%</th>\n",
       "      <td>62.459999</td>\n",
       "      <td>63.340000</td>\n",
       "      <td>61.820000</td>\n",
       "      <td>62.900002</td>\n",
       "      <td>62.900002</td>\n",
       "      <td>1.578100e+06</td>\n",
       "    </tr>\n",
       "    <tr>\n",
       "      <th>50%</th>\n",
       "      <td>65.260002</td>\n",
       "      <td>66.220001</td>\n",
       "      <td>64.690002</td>\n",
       "      <td>65.500000</td>\n",
       "      <td>65.500000</td>\n",
       "      <td>2.003900e+06</td>\n",
       "    </tr>\n",
       "    <tr>\n",
       "      <th>75%</th>\n",
       "      <td>67.120003</td>\n",
       "      <td>67.839996</td>\n",
       "      <td>66.260002</td>\n",
       "      <td>66.970001</td>\n",
       "      <td>66.970001</td>\n",
       "      <td>2.669600e+06</td>\n",
       "    </tr>\n",
       "    <tr>\n",
       "      <th>max</th>\n",
       "      <td>71.760002</td>\n",
       "      <td>73.250000</td>\n",
       "      <td>71.120003</td>\n",
       "      <td>72.669998</td>\n",
       "      <td>72.669998</td>\n",
       "      <td>1.826330e+07</td>\n",
       "    </tr>\n",
       "  </tbody>\n",
       "</table>\n",
       "</div>"
      ],
      "text/plain": [
       "             Open        High         Low       Close   Adj Close  \\\n",
       "count  125.000000  125.000000  125.000000  125.000000  125.000000   \n",
       "mean    64.976160   65.811920   64.157040   65.041760   65.041760   \n",
       "std      2.653056    2.679817    2.680201    2.683449    2.683449   \n",
       "min     57.599998   60.250000   57.099998   57.389999   57.389999   \n",
       "25%     62.459999   63.340000   61.820000   62.900002   62.900002   \n",
       "50%     65.260002   66.220001   64.690002   65.500000   65.500000   \n",
       "75%     67.120003   67.839996   66.260002   66.970001   66.970001   \n",
       "max     71.760002   73.250000   71.120003   72.669998   72.669998   \n",
       "\n",
       "             Volume  \n",
       "count  1.250000e+02  \n",
       "mean   2.441453e+06  \n",
       "std    1.907651e+06  \n",
       "min    9.492000e+05  \n",
       "25%    1.578100e+06  \n",
       "50%    2.003900e+06  \n",
       "75%    2.669600e+06  \n",
       "max    1.826330e+07  "
      ]
     },
     "execution_count": 11,
     "metadata": {},
     "output_type": "execute_result"
    }
   ],
   "source": [
    "# general overview of data\n",
    "\n",
    "d.describe()"
   ]
  },
  {
   "cell_type": "code",
   "execution_count": 18,
   "metadata": {},
   "outputs": [
    {
     "data": {
      "text/plain": [
       "<matplotlib.axes._subplots.AxesSubplot at 0x7fa30c0c6208>"
      ]
     },
     "execution_count": 18,
     "metadata": {},
     "output_type": "execute_result"
    },
    {
     "data": {
      "image/png": "[encoded data removed]",
      "text/plain": [
       "<Figure size 432x288 with 1 Axes>"
      ]
     },
     "metadata": {},
     "output_type": "display_data"
    }
   ],
   "source": [
    "# plot price vs. time\n",
    "\n",
    "price = d[[\"Open\", \"High\", \"Low\", \"Close\"]]\n",
    "price.plot()"
   ]
  },
  {
   "cell_type": "code",
   "execution_count": 65,
   "metadata": {},
   "outputs": [
    {
     "data": {
      "image/png": "[encoded data removed]",
      "text/plain": [
       "<Figure size 432x288 with 2 Axes>"
      ]
     },
     "metadata": {},
     "output_type": "display_data"
    }
   ],
   "source": [
    "\n",
    "\n",
    "fig, axs = plt.subplots(2)\n",
    "\n",
    "axs[0, ].plot(price[\"Close\"])\n",
    "axs[0, ].plot(price[\"Open\"])\n",
    "axs[1, ].bar(d.index, d[\"Volume\"])\n",
    "\n",
    "plt.show()"
   ]
  },
  {
   "cell_type": "code",
   "execution_count": 23,
   "metadata": {},
   "outputs": [
    {
     "data": {
      "image/png": "[encoded data removed]",
      "text/plain": [
       "<Figure size 432x288 with 1 Axes>"
      ]
     },
     "metadata": {},
     "output_type": "display_data"
    }
   ],
   "source": [
    "# histogram of prices. n, bins, patches are not used here. refer to https://matplotlib.org/api/_as_gen/matplotlib.pyplot.hist.html\n",
    "\n",
    "n, bins, patches = plt.hist(price[\"Close\"], bins = 50)\n"
   ]
  },
  {
   "cell_type": "code",
   "execution_count": 26,
   "metadata": {},
   "outputs": [
    {
     "data": {
      "image/png": "[encoded data removed]",
      "text/plain": [
       "<Figure size 432x288 with 1 Axes>"
      ]
     },
     "metadata": {},
     "output_type": "display_data"
    }
   ],
   "source": [
    "# normalized histogram\n",
    "\n",
    "norm = (price[\"Close\"] - np.mean(price[\"Close\"])) / np.mean(price[\"Close\"])\n",
    "\n",
    "n, bins, patches = plt.hist(norm, bins = 50)"
   ]
  }
 ],
 "metadata": {
  "kernelspec": {
   "display_name": "Python 3",
   "language": "python",
   "name": "python3"
  },
  "language_info": {
   "codemirror_mode": {
    "name": "ipython",
    "version": 3
   },
   "file_extension": ".py",
   "mimetype": "text/x-python",
   "name": "python",
   "nbconvert_exporter": "python",
   "pygments_lexer": "ipython3",
   "version": "3.6.5"
  }
 },
 "nbformat": 4,
 "nbformat_minor": 2
}
